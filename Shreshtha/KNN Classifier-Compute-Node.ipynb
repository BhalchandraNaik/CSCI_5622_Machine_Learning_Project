{
 "cells": [
  {
   "cell_type": "code",
   "execution_count": 31,
   "metadata": {},
   "outputs": [
    {
     "name": "stdout",
     "output_type": "stream",
     "text": [
      "Number of processes: 12\n"
     ]
    }
   ],
   "source": [
    "import random\n",
    "\n",
    "import pandas as pd\n",
    "import numpy as np\n",
    "\n",
    "import os\n",
    "import json\n",
    "import sys\n",
    "\n",
    "import warnings\n",
    "\n",
    "from sklearn.ensemble import RandomForestClassifier\n",
    "from sklearn.svm import SVC, LinearSVC\n",
    "\n",
    "from sklearn.metrics import accuracy_score\n",
    "\n",
    "\n",
    "warnings.filterwarnings('ignore')  # to suppress some matplotlib deprecation warnings\n",
    "\n",
    "from sklearn.model_selection import train_test_split, GridSearchCV\n",
    "\n",
    "from sklearn.neighbors import KNeighborsClassifier\n",
    "\n",
    "import matplotlib.pyplot as plt\n",
    "\n",
    "import numpy as np\n",
    "import json\n",
    "from keras.applications.mobilenet import preprocess_input\n",
    "import cv2\n",
    "\n",
    "#syspath\n",
    "print(sys.path)\n",
    "print()\n",
    "# Any results you write to the current directory are saved as output.\n",
    "\n",
    "input_path = \"/home/shpa9919/scratchDir/doodle/data\"\n",
    "train_simplified_path = input_path + \"/train_simplified_small_set/\"\n",
    "\n",
    "train_simplified = os.listdir(train_simplified_path)\n",
    "number_of_processes = os.cpu_count()\n",
    "print(\"Number of processes:\", number_of_processes)\n",
    "BASE_SIZE = 256\n",
    "\n"
   ]
  },
  {
   "cell_type": "markdown",
   "metadata": {},
   "source": [
    "Util functions which are used to convert sketch into image of size*size dimention."
   ]
  },
  {
   "cell_type": "code",
   "execution_count": 32,
   "metadata": {},
   "outputs": [],
   "source": [
    "def image_generator_xd(dataframe, size, lw=6, time_color=True, ):\n",
    "    dataframe['drawing'] = dataframe['drawing'].apply(json.loads)\n",
    "    x = np.zeros((len(dataframe), size * size))\n",
    "    for i, raw_strokes in enumerate(dataframe.drawing.values):\n",
    "        x[i, :] = draw_cv2(raw_strokes, size=size, lw=lw, time_color=time_color)\n",
    "    x = preprocess_input(x).astype(np.float32)\n",
    "    return x, dataframe['word'].values\n",
    "\n",
    "\n",
    "def draw_cv2(raw_strokes, size=256, lw=6, time_color=True):\n",
    "    img = np.zeros((BASE_SIZE, BASE_SIZE), np.uint8)\n",
    "    for t, stroke in enumerate(raw_strokes):\n",
    "        for i in range(len(stroke[0]) - 1):\n",
    "            color = 255 - min(t, 10) * 13 if time_color else 255\n",
    "            _ = cv2.line(img, (stroke[0][i], stroke[1][i]),\n",
    "                         (stroke[0][i + 1], stroke[1][i + 1]), color, lw)\n",
    "    if size != BASE_SIZE:\n",
    "        return cv2.resize(img, (size, size)).reshape(-1)\n",
    "    else:\n",
    "        return img.reshape(-1)\n",
    "    \n",
    "    \n",
    "def get_lambda(value):\n",
    "    return lambda x: value"
   ]
  },
  {
   "cell_type": "markdown",
   "metadata": {},
   "source": [
    "Function to prepare the test and training sets."
   ]
  },
  {
   "cell_type": "code",
   "execution_count": 33,
   "metadata": {},
   "outputs": [],
   "source": [
    "def read_file(file_name, label, value, rows=100):\n",
    "    data = pd.read_csv(file_name, index_col='key_id', nrows=rows)\n",
    "    data['word'] = data['word'].replace(label, value, regex=True)\n",
    "    return data\n",
    "\n",
    "\n",
    "# print(train_simplified)\n",
    "def get_small_sample(dir_listing, sample_size=5, rows=100, random_sample=False):\n",
    "    sample_files = None\n",
    "    if random_sample:\n",
    "        sample_files = random.sample(dir_listing, sample_size)\n",
    "    else:\n",
    "        sample_files = dir_listing[:sample_size]\n",
    "\n",
    "    print(\"Samples in Account :\", sample_files)\n",
    "    mapping = dict()\n",
    "    reverse_mapping = dict()\n",
    "\n",
    "    data_set = []\n",
    "    for i, sample in enumerate(sample_files):\n",
    "        print(\"Reading sample\", sample)\n",
    "        ex_name_raw = sample.split('.')[0]\n",
    "        ex_name = ex_name_raw.replace(' ', '_')\n",
    "        mapping[ex_name] = i\n",
    "        reverse_mapping[i] = ex_name\n",
    "        data_set.append(read_file(train_simplified_path + sample, ex_name_raw, i, rows))\n",
    "    return data_set, mapping, reverse_mapping\n",
    "\n",
    "\n",
    "def split_data(list_data_frames, ts= 0.1):\n",
    "    training_frames = []\n",
    "    testing_frames = []\n",
    "    for df in list_data_frames:\n",
    "        train_df, test_df = train_test_split(df, test_size=ts, shuffle=False)\n",
    "        training_frames.append(train_df)\n",
    "        testing_frames.append(test_df)\n",
    "    return pd.concat(training_frames), pd.concat(testing_frames)\n",
    "\n"
   ]
  },
  {
   "cell_type": "markdown",
   "metadata": {},
   "source": [
    "Prepare the test and training data."
   ]
  },
  {
   "cell_type": "code",
   "execution_count": 34,
   "metadata": {},
   "outputs": [
    {
     "name": "stdout",
     "output_type": "stream",
     "text": [
      "Samples in Account : ['guitar.csv', 'toilet.csv', 'banana.csv', 'bicycle.csv', 'birthday cake.csv', 'jail.csv', 'The Eiffel Tower.csv', 'camera.csv', 'airplane.csv', 'bird.csv', 'cow.csv', 'windmill.csv', 'cell phone.csv', 'umbrella.csv', 'butterfly.csv', 'fireplace.csv', 'snowflake.csv', 'piano.csv', 'mushroom.csv', 'sailboat.csv']\n",
      "Reading sample guitar.csv\n",
      "Reading sample toilet.csv\n",
      "Reading sample banana.csv\n",
      "Reading sample bicycle.csv\n",
      "Reading sample birthday cake.csv\n",
      "Reading sample jail.csv\n",
      "Reading sample The Eiffel Tower.csv\n",
      "Reading sample camera.csv\n",
      "Reading sample airplane.csv\n",
      "Reading sample bird.csv\n",
      "Reading sample cow.csv\n",
      "Reading sample windmill.csv\n",
      "Reading sample cell phone.csv\n",
      "Reading sample umbrella.csv\n",
      "Reading sample butterfly.csv\n",
      "Reading sample fireplace.csv\n",
      "Reading sample snowflake.csv\n",
      "Reading sample piano.csv\n",
      "Reading sample mushroom.csv\n",
      "Reading sample sailboat.csv\n",
      "Data prepared\n"
     ]
    }
   ],
   "source": [
    "no_of_classes = 20\n",
    "no_of_rows = 1000\n",
    "\n",
    "small_data_set, y_mapping, rev_y_mapping = get_small_sample(train_simplified, sample_size=no_of_classes,rows=no_of_rows)\n",
    "train_set, test_set = split_data(small_data_set, ts = 0.1)\n",
    "\n",
    "name_to_number = lambda x: y_mapping[x]\n",
    "number_to_name = lambda x: rev_y_mapping[x]\n",
    "\n",
    "x_train, y_train = image_generator_xd(train_set, 64)\n",
    "x_test, y_test = image_generator_xd(test_set, 64)\n",
    "print(\"Data prepared\")\n"
   ]
  },
  {
   "cell_type": "markdown",
   "metadata": {},
   "source": [
    "The KNN Classifier:"
   ]
  },
  {
   "cell_type": "code",
   "execution_count": 35,
   "metadata": {},
   "outputs": [
    {
     "name": "stdout",
     "output_type": "stream",
     "text": [
      "Accuracy  0.2845\n"
     ]
    }
   ],
   "source": [
    "knn = KNeighborsClassifier(n_neighbors = 3, n_jobs=-1)\n",
    "knn.fit(x_train, y_train)\n",
    "y_pred_knn = knn.predict(x_test)\n",
    "print(\"Accuracy \", accuracy_score(y_test, y_pred_knn))\n"
   ]
  },
  {
   "cell_type": "markdown",
   "metadata": {},
   "source": [
    "Performing grid search to tune the paramerters:"
   ]
  },
  {
   "cell_type": "code",
   "execution_count": 55,
   "metadata": {},
   "outputs": [
    {
     "name": "stdout",
     "output_type": "stream",
     "text": [
      "Model trained.\n"
     ]
    }
   ],
   "source": [
    "###############Grid search#######\n",
    "grid_search_params = {'n_neighbors': np.arange(1,6,1)}\n",
    "\n",
    "knn = KNeighborsClassifier(n_jobs=-1)\n",
    "knn = GridSearchCV(knn, grid_search_params, n_jobs=-1) #use all cpu cores\n",
    "knn.fit(x_train, y_train)\n",
    "print(\"Model trained.\")\n"
   ]
  },
  {
   "cell_type": "code",
   "execution_count": 59,
   "metadata": {},
   "outputs": [
    {
     "data": {
      "text/html": [
       "<div>\n",
       "<style scoped>\n",
       "    .dataframe tbody tr th:only-of-type {\n",
       "        vertical-align: middle;\n",
       "    }\n",
       "\n",
       "    .dataframe tbody tr th {\n",
       "        vertical-align: top;\n",
       "    }\n",
       "\n",
       "    .dataframe thead th {\n",
       "        text-align: right;\n",
       "    }\n",
       "</style>\n",
       "<table border=\"1\" class=\"dataframe\">\n",
       "  <thead>\n",
       "    <tr style=\"text-align: right;\">\n",
       "      <th></th>\n",
       "      <th>mean_fit_time</th>\n",
       "      <th>std_fit_time</th>\n",
       "      <th>mean_score_time</th>\n",
       "      <th>std_score_time</th>\n",
       "      <th>param_n_neighbors</th>\n",
       "      <th>params</th>\n",
       "      <th>split0_test_score</th>\n",
       "      <th>split1_test_score</th>\n",
       "      <th>split2_test_score</th>\n",
       "      <th>mean_test_score</th>\n",
       "      <th>std_test_score</th>\n",
       "      <th>rank_test_score</th>\n",
       "      <th>split0_train_score</th>\n",
       "      <th>split1_train_score</th>\n",
       "      <th>split2_train_score</th>\n",
       "      <th>mean_train_score</th>\n",
       "      <th>std_train_score</th>\n",
       "    </tr>\n",
       "  </thead>\n",
       "  <tbody>\n",
       "    <tr>\n",
       "      <th>0</th>\n",
       "      <td>0.788954</td>\n",
       "      <td>0.299817</td>\n",
       "      <td>34.101417</td>\n",
       "      <td>0.517309</td>\n",
       "      <td>1</td>\n",
       "      <td>{'n_neighbors': 1}</td>\n",
       "      <td>0.295000</td>\n",
       "      <td>0.276667</td>\n",
       "      <td>0.302500</td>\n",
       "      <td>0.291389</td>\n",
       "      <td>0.010851</td>\n",
       "      <td>1</td>\n",
       "      <td>1.000000</td>\n",
       "      <td>1.000000</td>\n",
       "      <td>1.000000</td>\n",
       "      <td>1.000000</td>\n",
       "      <td>0.000000</td>\n",
       "    </tr>\n",
       "    <tr>\n",
       "      <th>2</th>\n",
       "      <td>4.546334</td>\n",
       "      <td>0.236177</td>\n",
       "      <td>39.085834</td>\n",
       "      <td>0.169474</td>\n",
       "      <td>3</td>\n",
       "      <td>{'n_neighbors': 3}</td>\n",
       "      <td>0.253333</td>\n",
       "      <td>0.230000</td>\n",
       "      <td>0.260000</td>\n",
       "      <td>0.247778</td>\n",
       "      <td>0.012862</td>\n",
       "      <td>2</td>\n",
       "      <td>0.397500</td>\n",
       "      <td>0.367917</td>\n",
       "      <td>0.392500</td>\n",
       "      <td>0.385972</td>\n",
       "      <td>0.012929</td>\n",
       "    </tr>\n",
       "    <tr>\n",
       "      <th>1</th>\n",
       "      <td>3.076169</td>\n",
       "      <td>0.722979</td>\n",
       "      <td>37.889832</td>\n",
       "      <td>0.699052</td>\n",
       "      <td>2</td>\n",
       "      <td>{'n_neighbors': 2}</td>\n",
       "      <td>0.240000</td>\n",
       "      <td>0.210833</td>\n",
       "      <td>0.257500</td>\n",
       "      <td>0.236111</td>\n",
       "      <td>0.019249</td>\n",
       "      <td>3</td>\n",
       "      <td>0.435417</td>\n",
       "      <td>0.391667</td>\n",
       "      <td>0.428750</td>\n",
       "      <td>0.418611</td>\n",
       "      <td>0.019246</td>\n",
       "    </tr>\n",
       "    <tr>\n",
       "      <th>3</th>\n",
       "      <td>6.261782</td>\n",
       "      <td>0.638803</td>\n",
       "      <td>39.716150</td>\n",
       "      <td>0.101332</td>\n",
       "      <td>4</td>\n",
       "      <td>{'n_neighbors': 4}</td>\n",
       "      <td>0.231667</td>\n",
       "      <td>0.212500</td>\n",
       "      <td>0.240000</td>\n",
       "      <td>0.228056</td>\n",
       "      <td>0.011514</td>\n",
       "      <td>4</td>\n",
       "      <td>0.325000</td>\n",
       "      <td>0.283333</td>\n",
       "      <td>0.326667</td>\n",
       "      <td>0.311667</td>\n",
       "      <td>0.020046</td>\n",
       "    </tr>\n",
       "    <tr>\n",
       "      <th>4</th>\n",
       "      <td>9.219189</td>\n",
       "      <td>0.764705</td>\n",
       "      <td>29.217169</td>\n",
       "      <td>0.120948</td>\n",
       "      <td>5</td>\n",
       "      <td>{'n_neighbors': 5}</td>\n",
       "      <td>0.229167</td>\n",
       "      <td>0.215000</td>\n",
       "      <td>0.239167</td>\n",
       "      <td>0.227778</td>\n",
       "      <td>0.009915</td>\n",
       "      <td>5</td>\n",
       "      <td>0.310417</td>\n",
       "      <td>0.287083</td>\n",
       "      <td>0.302500</td>\n",
       "      <td>0.300000</td>\n",
       "      <td>0.009688</td>\n",
       "    </tr>\n",
       "  </tbody>\n",
       "</table>\n",
       "</div>"
      ],
      "text/plain": [
       "   mean_fit_time  std_fit_time  mean_score_time  std_score_time  \\\n",
       "0       0.788954      0.299817        34.101417        0.517309   \n",
       "2       4.546334      0.236177        39.085834        0.169474   \n",
       "1       3.076169      0.722979        37.889832        0.699052   \n",
       "3       6.261782      0.638803        39.716150        0.101332   \n",
       "4       9.219189      0.764705        29.217169        0.120948   \n",
       "\n",
       "  param_n_neighbors              params  split0_test_score  split1_test_score  \\\n",
       "0                 1  {'n_neighbors': 1}           0.295000           0.276667   \n",
       "2                 3  {'n_neighbors': 3}           0.253333           0.230000   \n",
       "1                 2  {'n_neighbors': 2}           0.240000           0.210833   \n",
       "3                 4  {'n_neighbors': 4}           0.231667           0.212500   \n",
       "4                 5  {'n_neighbors': 5}           0.229167           0.215000   \n",
       "\n",
       "   split2_test_score  mean_test_score  std_test_score  rank_test_score  \\\n",
       "0           0.302500         0.291389        0.010851                1   \n",
       "2           0.260000         0.247778        0.012862                2   \n",
       "1           0.257500         0.236111        0.019249                3   \n",
       "3           0.240000         0.228056        0.011514                4   \n",
       "4           0.239167         0.227778        0.009915                5   \n",
       "\n",
       "   split0_train_score  split1_train_score  split2_train_score  \\\n",
       "0            1.000000            1.000000            1.000000   \n",
       "2            0.397500            0.367917            0.392500   \n",
       "1            0.435417            0.391667            0.428750   \n",
       "3            0.325000            0.283333            0.326667   \n",
       "4            0.310417            0.287083            0.302500   \n",
       "\n",
       "   mean_train_score  std_train_score  \n",
       "0          1.000000         0.000000  \n",
       "2          0.385972         0.012929  \n",
       "1          0.418611         0.019246  \n",
       "3          0.311667         0.020046  \n",
       "4          0.300000         0.009688  "
      ]
     },
     "execution_count": 59,
     "metadata": {},
     "output_type": "execute_result"
    }
   ],
   "source": [
    "results_knn = pd.DataFrame(knn.cv_results_)\n",
    "results_knn.sort_values('mean_test_score', ascending = False)\n"
   ]
  },
  {
   "cell_type": "code",
   "execution_count": 57,
   "metadata": {},
   "outputs": [
    {
     "data": {
      "text/plain": [
       "<matplotlib.axes._subplots.AxesSubplot at 0x1a4dc42c18>"
      ]
     },
     "execution_count": 57,
     "metadata": {},
     "output_type": "execute_result"
    },
    {
     "data": {
      "image/png": "[encoded data removed]",
      "text/plain": [
       "<Figure size 432x288 with 1 Axes>"
      ]
     },
     "metadata": {
      "needs_background": "light"
     },
     "output_type": "display_data"
    }
   ],
   "source": [
    "# Plot results of grid search\n",
    "results_knn.plot('param_n_neighbors','mean_test_score')"
   ]
  },
  {
   "cell_type": "code",
   "execution_count": null,
   "metadata": {},
   "outputs": [],
   "source": [
    "print(\"---Starting Random Forest----\")\n",
    "# Base RFC model\n",
    "rfc = RandomForestClassifier(random_state=1)\n",
    "rfc.fit(x_train, y_train)\n",
    "print(rfc)\n",
    "y_pred_rfc = rfc.predict(x_test)\n",
    "acc_rfc = accuracy_score(y_test, y_pred_rfc)\n",
    "print('Random forest accuracy: ', acc_rfc)\n",
    "\n",
    "print(\"---Finished Random Forest----\")\n",
    "\n",
    "print(\"SVM with linear kernal\")\n",
    "lsvc = LinearSVC(random_state=1)\n",
    "lsvc.fit(x_train, y_train)\n",
    "print(lsvc)\n",
    "y_pred_lsvc = lsvc.predict(x_test)\n",
    "acc_lsvc = accuracy_score(y_test, y_pred_lsvc)\n",
    "print('Linear SVC accuracy: ', acc_lsvc)\n",
    "\n",
    "print(\"SVM with RBF Kernal\")\n",
    "svc = SVC(kernel='rbf', random_state=1)\n",
    "svc.fit(x_train, y_train)\n",
    "print(svc)\n",
    "y_pred_svc = svc.predict(x_test)\n",
    "acc_svc = accuracy_score(y_test, y_pred_svc)\n",
    "print('Gaussian Radial Basis Function SVC Accuracy: ', acc_svc)"
   ]
  },
  {
   "cell_type": "code",
   "execution_count": null,
   "metadata": {},
   "outputs": [],
   "source": []
  }
 ],
 "metadata": {
  "kernelspec": {
   "display_name": "Python 3",
   "language": "python",
   "name": "python3"
  },
  "language_info": {
   "codemirror_mode": {
    "name": "ipython",
    "version": 3
   },
   "file_extension": ".py",
   "mimetype": "text/x-python",
   "name": "python",
   "nbconvert_exporter": "python",
   "pygments_lexer": "ipython3",
   "version": "3.7.0"
  }
 },
 "nbformat": 4,
 "nbformat_minor": 2
}
