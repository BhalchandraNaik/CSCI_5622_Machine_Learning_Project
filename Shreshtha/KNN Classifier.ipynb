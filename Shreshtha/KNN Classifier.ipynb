{
 "cells": [
  {
   "cell_type": "code",
   "execution_count": 1,
   "metadata": {},
   "outputs": [
    {
     "name": "stderr",
     "output_type": "stream",
     "text": [
      "/anaconda3/lib/python3.7/site-packages/sklearn/ensemble/weight_boosting.py:29: DeprecationWarning: numpy.core.umath_tests is an internal NumPy module and should not be imported. It will be removed in a future NumPy release.\n",
      "  from numpy.core.umath_tests import inner1d\n",
      "Using TensorFlow backend.\n"
     ]
    },
    {
     "name": "stdout",
     "output_type": "stream",
     "text": [
      "Number of processes: 12\n"
     ]
    }
   ],
   "source": [
    "import random\n",
    "\n",
    "import pandas as pd\n",
    "import numpy as np\n",
    "\n",
    "import os\n",
    "import json\n",
    "\n",
    "import warnings\n",
    "\n",
    "from sklearn.ensemble import RandomForestClassifier\n",
    "from sklearn.svm import SVC, LinearSVC\n",
    "\n",
    "from sklearn.metrics import accuracy_score\n",
    "\n",
    "\n",
    "warnings.filterwarnings('ignore')  # to suppress some matplotlib deprecation warnings\n",
    "\n",
    "from sklearn.model_selection import train_test_split, GridSearchCV\n",
    "\n",
    "from sklearn.neighbors import KNeighborsClassifier\n",
    "\n",
    "import matplotlib.pyplot as plt\n",
    "\n",
    "import numpy as np\n",
    "import cv2\n",
    "import json\n",
    "from keras.applications.mobilenet import preprocess_input\n",
    "\n",
    "\n",
    "# Any results you write to the current directory are saved as output.\n",
    "\n",
    "input_path = \"/Users/blue/Machine Learning\"\n",
    "train_simplified_path = input_path + \"/train_simplified_small_set/\"\n",
    "\n",
    "train_simplified = os.listdir(train_simplified_path)\n",
    "number_of_processes = os.cpu_count()\n",
    "print(\"Number of processes:\", number_of_processes)\n",
    "BASE_SIZE = 256\n",
    "\n"
   ]
  },
  {
   "cell_type": "markdown",
   "metadata": {},
   "source": [
    "Util functions which are used to convert sketch into image of size*size dimention."
   ]
  },
  {
   "cell_type": "code",
   "execution_count": 2,
   "metadata": {},
   "outputs": [],
   "source": [
    "def image_generator_xd(dataframe, size, lw=6, time_color=True, ):\n",
    "    dataframe['drawing'] = dataframe['drawing'].apply(json.loads)\n",
    "    x = np.zeros((len(dataframe), size * size))\n",
    "    for i, raw_strokes in enumerate(dataframe.drawing.values):\n",
    "        x[i, :] = draw_cv2(raw_strokes, size=size, lw=lw, time_color=time_color)\n",
    "    x = preprocess_input(x).astype(np.float32)\n",
    "    return x, dataframe['word'].values\n",
    "\n",
    "\n",
    "def draw_cv2(raw_strokes, size=256, lw=6, time_color=True):\n",
    "    img = np.zeros((BASE_SIZE, BASE_SIZE), np.uint8)\n",
    "    for t, stroke in enumerate(raw_strokes):\n",
    "        for i in range(len(stroke[0]) - 1):\n",
    "            color = 255 - min(t, 10) * 13 if time_color else 255\n",
    "            _ = cv2.line(img, (stroke[0][i], stroke[1][i]),\n",
    "                         (stroke[0][i + 1], stroke[1][i + 1]), color, lw)\n",
    "    if size != BASE_SIZE:\n",
    "        return cv2.resize(img, (size, size)).reshape(-1)\n",
    "    else:\n",
    "        return img.reshape(-1)\n",
    "    \n",
    "    \n",
    "def get_lambda(value):\n",
    "    return lambda x: value"
   ]
  },
  {
   "cell_type": "markdown",
   "metadata": {},
   "source": [
    "Function to prepare the test and training sets."
   ]
  },
  {
   "cell_type": "code",
   "execution_count": 3,
   "metadata": {},
   "outputs": [],
   "source": [
    "def read_file(file_name, label, value, rows=100):\n",
    "    data = pd.read_csv(file_name, index_col='key_id', nrows=rows)\n",
    "    data['word'] = data['word'].replace(label, value, regex=True)\n",
    "    return data\n",
    "\n",
    "\n",
    "# print(train_simplified)\n",
    "def get_small_sample(dir_listing, sample_size=5, rows=100, random_sample=False):\n",
    "    sample_files = None\n",
    "    if random_sample:\n",
    "        sample_files = random.sample(dir_listing, sample_size)\n",
    "    else:\n",
    "        sample_files = dir_listing[:sample_size]\n",
    "\n",
    "    print(\"Samples in Account :\", sample_files)\n",
    "    mapping = dict()\n",
    "    reverse_mapping = dict()\n",
    "\n",
    "    data_set = []\n",
    "    for i, sample in enumerate(sample_files):\n",
    "        print(\"Reading sample\", sample)\n",
    "        ex_name_raw = sample.split('.')[0]\n",
    "        ex_name = ex_name_raw.replace(' ', '_')\n",
    "        mapping[ex_name] = i\n",
    "        reverse_mapping[i] = ex_name\n",
    "        data_set.append(read_file(train_simplified_path + sample, ex_name_raw, i, rows))\n",
    "    return data_set, mapping, reverse_mapping\n",
    "\n",
    "\n",
    "def split_data(list_data_frames, ts= 0.1):\n",
    "    training_frames = []\n",
    "    testing_frames = []\n",
    "    for df in list_data_frames:\n",
    "        train_df, test_df = train_test_split(df, test_size=ts, shuffle=False)\n",
    "        training_frames.append(train_df)\n",
    "        testing_frames.append(test_df)\n",
    "    return pd.concat(training_frames), pd.concat(testing_frames)\n",
    "\n"
   ]
  },
  {
   "cell_type": "markdown",
   "metadata": {},
   "source": [
    "Prepare the test and training data."
   ]
  },
  {
   "cell_type": "code",
   "execution_count": 4,
   "metadata": {},
   "outputs": [
    {
     "name": "stdout",
     "output_type": "stream",
     "text": [
      "Samples in Account : ['guitar.csv', 'toilet.csv', 'banana.csv', 'bicycle.csv', 'birthday cake.csv', 'jail.csv', 'The Eiffel Tower.csv', 'camera.csv', 'airplane.csv', 'bird.csv', 'cow.csv', 'windmill.csv', 'cell phone.csv', 'umbrella.csv', 'butterfly.csv', 'fireplace.csv', 'snowflake.csv', 'piano.csv', 'mushroom.csv', 'sailboat.csv']\n",
      "Reading sample guitar.csv\n",
      "Reading sample toilet.csv\n",
      "Reading sample banana.csv\n",
      "Reading sample bicycle.csv\n",
      "Reading sample birthday cake.csv\n",
      "Reading sample jail.csv\n",
      "Reading sample The Eiffel Tower.csv\n",
      "Reading sample camera.csv\n",
      "Reading sample airplane.csv\n",
      "Reading sample bird.csv\n",
      "Reading sample cow.csv\n",
      "Reading sample windmill.csv\n",
      "Reading sample cell phone.csv\n",
      "Reading sample umbrella.csv\n",
      "Reading sample butterfly.csv\n",
      "Reading sample fireplace.csv\n",
      "Reading sample snowflake.csv\n",
      "Reading sample piano.csv\n",
      "Reading sample mushroom.csv\n",
      "Reading sample sailboat.csv\n",
      "Data prepared\n"
     ]
    }
   ],
   "source": [
    "no_of_classes = 20\n",
    "no_of_rows = 1000\n",
    "\n",
    "small_data_set, y_mapping, rev_y_mapping = get_small_sample(train_simplified, sample_size=no_of_classes,rows=no_of_rows)\n",
    "train_set, test_set = split_data(small_data_set, ts = 0.1)\n",
    "\n",
    "name_to_number = lambda x: y_mapping[x]\n",
    "number_to_name = lambda x: rev_y_mapping[x]\n",
    "\n",
    "x_train, y_train = image_generator_xd(train_set, 64)\n",
    "x_test, y_test = image_generator_xd(test_set, 64)\n",
    "print(\"Data prepared\")\n"
   ]
  },
  {
   "cell_type": "markdown",
   "metadata": {},
   "source": [
    "The KNN Classifier:"
   ]
  },
  {
   "cell_type": "code",
   "execution_count": 5,
   "metadata": {},
   "outputs": [
    {
     "name": "stdout",
     "output_type": "stream",
     "text": [
      "Accuracy  0.2845\n"
     ]
    }
   ],
   "source": [
    "knn = KNeighborsClassifier(n_neighbors = 3, n_jobs=-1)\n",
    "knn.fit(x_train, y_train)\n",
    "y_pred_knn = knn.predict(x_test)\n",
    "print(\"Accuracy \", accuracy_score(y_test, y_pred_knn))\n"
   ]
  },
  {
   "cell_type": "markdown",
   "metadata": {},
   "source": [
    "Performing grid search to tune the paramerters:"
   ]
  },
  {
   "cell_type": "code",
   "execution_count": 6,
   "metadata": {},
   "outputs": [
    {
     "name": "stdout",
     "output_type": "stream",
     "text": [
      "Model trained.\n"
     ]
    }
   ],
   "source": [
    "###############Grid search#######\n",
    "grid_search_params = {'n_neighbors': np.arange(1,6,1)}\n",
    "\n",
    "knn = KNeighborsClassifier(n_jobs=-1)\n",
    "knn = GridSearchCV(knn, grid_search_params, n_jobs=-1) #use all cpu cores\n",
    "knn.fit(x_train, y_train)\n",
    "print(\"Model trained.\")\n"
   ]
  },
  {
   "cell_type": "code",
   "execution_count": 7,
   "metadata": {},
   "outputs": [
    {
     "data": {
      "text/html": [
       "<div>\n",
       "<style scoped>\n",
       "    .dataframe tbody tr th:only-of-type {\n",
       "        vertical-align: middle;\n",
       "    }\n",
       "\n",
       "    .dataframe tbody tr th {\n",
       "        vertical-align: top;\n",
       "    }\n",
       "\n",
       "    .dataframe thead th {\n",
       "        text-align: right;\n",
       "    }\n",
       "</style>\n",
       "<table border=\"1\" class=\"dataframe\">\n",
       "  <thead>\n",
       "    <tr style=\"text-align: right;\">\n",
       "      <th></th>\n",
       "      <th>mean_fit_time</th>\n",
       "      <th>std_fit_time</th>\n",
       "      <th>mean_score_time</th>\n",
       "      <th>std_score_time</th>\n",
       "      <th>param_n_neighbors</th>\n",
       "      <th>params</th>\n",
       "      <th>split0_test_score</th>\n",
       "      <th>split1_test_score</th>\n",
       "      <th>split2_test_score</th>\n",
       "      <th>mean_test_score</th>\n",
       "      <th>std_test_score</th>\n",
       "      <th>rank_test_score</th>\n",
       "      <th>split0_train_score</th>\n",
       "      <th>split1_train_score</th>\n",
       "      <th>split2_train_score</th>\n",
       "      <th>mean_train_score</th>\n",
       "      <th>std_train_score</th>\n",
       "    </tr>\n",
       "  </thead>\n",
       "  <tbody>\n",
       "    <tr>\n",
       "      <th>4</th>\n",
       "      <td>97.757218</td>\n",
       "      <td>3.332636</td>\n",
       "      <td>403.551854</td>\n",
       "      <td>10.090671</td>\n",
       "      <td>5</td>\n",
       "      <td>{'n_neighbors': 5}</td>\n",
       "      <td>0.292333</td>\n",
       "      <td>0.284167</td>\n",
       "      <td>0.327667</td>\n",
       "      <td>0.301389</td>\n",
       "      <td>0.018878</td>\n",
       "      <td>1</td>\n",
       "      <td>0.547000</td>\n",
       "      <td>0.496250</td>\n",
       "      <td>0.537167</td>\n",
       "      <td>0.526806</td>\n",
       "      <td>0.021976</td>\n",
       "    </tr>\n",
       "    <tr>\n",
       "      <th>3</th>\n",
       "      <td>55.077318</td>\n",
       "      <td>1.223707</td>\n",
       "      <td>1041.672922</td>\n",
       "      <td>0.824347</td>\n",
       "      <td>4</td>\n",
       "      <td>{'n_neighbors': 4}</td>\n",
       "      <td>0.279500</td>\n",
       "      <td>0.281000</td>\n",
       "      <td>0.313333</td>\n",
       "      <td>0.291278</td>\n",
       "      <td>0.015608</td>\n",
       "      <td>2</td>\n",
       "      <td>0.574750</td>\n",
       "      <td>0.538250</td>\n",
       "      <td>0.569667</td>\n",
       "      <td>0.560889</td>\n",
       "      <td>0.016142</td>\n",
       "    </tr>\n",
       "    <tr>\n",
       "      <th>2</th>\n",
       "      <td>41.096667</td>\n",
       "      <td>7.387448</td>\n",
       "      <td>1036.337898</td>\n",
       "      <td>3.590250</td>\n",
       "      <td>3</td>\n",
       "      <td>{'n_neighbors': 3}</td>\n",
       "      <td>0.247333</td>\n",
       "      <td>0.271500</td>\n",
       "      <td>0.276833</td>\n",
       "      <td>0.265222</td>\n",
       "      <td>0.012835</td>\n",
       "      <td>3</td>\n",
       "      <td>0.584583</td>\n",
       "      <td>0.600750</td>\n",
       "      <td>0.583167</td>\n",
       "      <td>0.589500</td>\n",
       "      <td>0.007976</td>\n",
       "    </tr>\n",
       "    <tr>\n",
       "      <th>1</th>\n",
       "      <td>24.164897</td>\n",
       "      <td>0.567211</td>\n",
       "      <td>1026.353564</td>\n",
       "      <td>0.847838</td>\n",
       "      <td>2</td>\n",
       "      <td>{'n_neighbors': 2}</td>\n",
       "      <td>0.207000</td>\n",
       "      <td>0.263000</td>\n",
       "      <td>0.216833</td>\n",
       "      <td>0.228944</td>\n",
       "      <td>0.024413</td>\n",
       "      <td>4</td>\n",
       "      <td>0.561583</td>\n",
       "      <td>0.678167</td>\n",
       "      <td>0.549500</td>\n",
       "      <td>0.596417</td>\n",
       "      <td>0.058016</td>\n",
       "    </tr>\n",
       "    <tr>\n",
       "      <th>0</th>\n",
       "      <td>11.633479</td>\n",
       "      <td>2.794064</td>\n",
       "      <td>1002.374918</td>\n",
       "      <td>7.647528</td>\n",
       "      <td>1</td>\n",
       "      <td>{'n_neighbors': 1}</td>\n",
       "      <td>0.196500</td>\n",
       "      <td>0.258500</td>\n",
       "      <td>0.198833</td>\n",
       "      <td>0.217944</td>\n",
       "      <td>0.028693</td>\n",
       "      <td>5</td>\n",
       "      <td>1.000000</td>\n",
       "      <td>1.000000</td>\n",
       "      <td>1.000000</td>\n",
       "      <td>1.000000</td>\n",
       "      <td>0.000000</td>\n",
       "    </tr>\n",
       "  </tbody>\n",
       "</table>\n",
       "</div>"
      ],
      "text/plain": [
       "   mean_fit_time  std_fit_time  mean_score_time  std_score_time  \\\n",
       "4      97.757218      3.332636       403.551854       10.090671   \n",
       "3      55.077318      1.223707      1041.672922        0.824347   \n",
       "2      41.096667      7.387448      1036.337898        3.590250   \n",
       "1      24.164897      0.567211      1026.353564        0.847838   \n",
       "0      11.633479      2.794064      1002.374918        7.647528   \n",
       "\n",
       "  param_n_neighbors              params  split0_test_score  split1_test_score  \\\n",
       "4                 5  {'n_neighbors': 5}           0.292333           0.284167   \n",
       "3                 4  {'n_neighbors': 4}           0.279500           0.281000   \n",
       "2                 3  {'n_neighbors': 3}           0.247333           0.271500   \n",
       "1                 2  {'n_neighbors': 2}           0.207000           0.263000   \n",
       "0                 1  {'n_neighbors': 1}           0.196500           0.258500   \n",
       "\n",
       "   split2_test_score  mean_test_score  std_test_score  rank_test_score  \\\n",
       "4           0.327667         0.301389        0.018878                1   \n",
       "3           0.313333         0.291278        0.015608                2   \n",
       "2           0.276833         0.265222        0.012835                3   \n",
       "1           0.216833         0.228944        0.024413                4   \n",
       "0           0.198833         0.217944        0.028693                5   \n",
       "\n",
       "   split0_train_score  split1_train_score  split2_train_score  \\\n",
       "4            0.547000            0.496250            0.537167   \n",
       "3            0.574750            0.538250            0.569667   \n",
       "2            0.584583            0.600750            0.583167   \n",
       "1            0.561583            0.678167            0.549500   \n",
       "0            1.000000            1.000000            1.000000   \n",
       "\n",
       "   mean_train_score  std_train_score  \n",
       "4          0.526806         0.021976  \n",
       "3          0.560889         0.016142  \n",
       "2          0.589500         0.007976  \n",
       "1          0.596417         0.058016  \n",
       "0          1.000000         0.000000  "
      ]
     },
     "execution_count": 7,
     "metadata": {},
     "output_type": "execute_result"
    }
   ],
   "source": [
    "results_knn = pd.DataFrame(knn.cv_results_)\n",
    "results_knn.sort_values('mean_test_score', ascending = False)\n"
   ]
  },
  {
   "cell_type": "code",
   "execution_count": 8,
   "metadata": {},
   "outputs": [
    {
     "data": {
      "text/plain": [
       "<matplotlib.axes._subplots.AxesSubplot at 0x1a31810400>"
      ]
     },
     "execution_count": 8,
     "metadata": {},
     "output_type": "execute_result"
    },
    {
     "data": {
      "image/png": "[encoded data removed]",
      "text/plain": [
       "<Figure size 432x288 with 1 Axes>"
      ]
     },
     "metadata": {
      "needs_background": "light"
     },
     "output_type": "display_data"
    }
   ],
   "source": [
    "# Plot results of grid search\n",
    "results_knn.plot('param_n_neighbors','mean_test_score')"
   ]
  },
  {
   "cell_type": "code",
   "execution_count": null,
   "metadata": {},
   "outputs": [],
   "source": []
  },
  {
   "cell_type": "code",
   "execution_count": null,
   "metadata": {},
   "outputs": [],
   "source": []
  }
 ],
 "metadata": {
  "kernelspec": {
   "display_name": "Python 3",
   "language": "python",
   "name": "python3"
  },
  "language_info": {
   "codemirror_mode": {
    "name": "ipython",
    "version": 3
   },
   "file_extension": ".py",
   "mimetype": "text/x-python",
   "name": "python",
   "nbconvert_exporter": "python",
   "pygments_lexer": "ipython3",
   "version": "3.7.0"
  }
 },
 "nbformat": 4,
 "nbformat_minor": 2
}
